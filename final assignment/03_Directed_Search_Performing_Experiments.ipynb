{
 "cells": [
  {
   "cell_type": "markdown",
   "id": "bfd26afe",
   "metadata": {},
   "source": [
    "# 03_Directed_Search_Performing_Experiments.ipynb"
   ]
  },
  {
   "cell_type": "markdown",
   "id": "2772e19c",
   "metadata": {},
   "source": [
    "In this file we perform a large number of scenarios on the policies obtained from the previous step."
   ]
  },
  {
   "cell_type": "markdown",
   "id": "d8dfe406",
   "metadata": {
    "pycharm": {
     "name": "#%% md\n"
    }
   },
   "source": [
    "**Imports and Setup**"
   ]
  },
  {
   "cell_type": "code",
   "execution_count": 15,
   "id": "84491ef0",
   "metadata": {
    "ExecuteTime": {
     "end_time": "2023-06-26T14:24:53.413718400Z",
     "start_time": "2023-06-26T14:24:53.236072500Z"
    }
   },
   "outputs": [],
   "source": [
    "n_scenarios = pow(2, 1) #= 1024\n",
    "pf_id = 2\n",
    "name = \"Rhys\""
   ]
  },
  {
   "cell_type": "code",
   "execution_count": 16,
   "id": "1ea85013",
   "metadata": {
    "ExecuteTime": {
     "end_time": "2023-06-26T14:24:54.572065300Z",
     "start_time": "2023-06-26T14:24:53.248133100Z"
    }
   },
   "outputs": [
    {
     "name": "stderr",
     "output_type": "stream",
     "text": [
      "C:\\Users\\Alienware\\OneDrive - Maastricht University\\Documents\\GitHub\\EMA-Thesis\\final assignment\\funs_generate_network.py:10: FutureWarning: iteritems is deprecated and will be removed in a future version. Use .items instead.\n",
      "  return dict((str(k), v.dropna().to_dict())\n"
     ]
    }
   ],
   "source": [
    "from ema_workbench import (ScalarOutcome, Scenario, MultiprocessingEvaluator, SequentialEvaluator)\n",
    "from ema_workbench.em_framework.optimization import (HyperVolume, EpsilonProgress)\n",
    "from ema_workbench.analysis import parcoords\n",
    "from problem_formulation import get_model_for_problem_formulation\n",
    "from ema_workbench.util import ema_logging\n",
    "import pandas as pd\n",
    "import numpy as np\n",
    "import matplotlib.pyplot as plt\n",
    "import seaborn as sns\n",
    "\n",
    "ema_logging.log_to_stderr(ema_logging.INFO)\n",
    "\n",
    "model, planning_steps = get_model_for_problem_formulation(pf_id)\n"
   ]
  },
  {
   "cell_type": "code",
   "execution_count": 17,
   "id": "63de229c",
   "metadata": {
    "ExecuteTime": {
     "end_time": "2023-06-26T14:24:54.643812300Z",
     "start_time": "2023-06-26T14:24:54.576053300Z"
    }
   },
   "outputs": [],
   "source": [
    "directed_search_df = pd.read_csv('output/directed_search/Directed_Search_combined_1_results.csv')"
   ]
  },
  {
   "cell_type": "markdown",
   "id": "491d3bf2",
   "metadata": {},
   "source": [
    "**Re-evaluate candidate solutions under uncertainty**\n",
    "\n",
    "We now have a large number of candidate solutions (policies), we can re-evaluate them over the various deeply uncertain factors to assess their robustness against uncertainties.\n",
    "\n",
    "For this robustness evaluation, we perform 10000 experiments.\n",
    "\n",
    "To reduce the run time, we will only be evaluating the best policies. We decided that those are the policies with zero deaths\n",
    "\n"
   ]
  },
  {
   "cell_type": "code",
   "execution_count": 18,
   "id": "d3640c6f",
   "metadata": {
    "ExecuteTime": {
     "end_time": "2023-06-26T14:24:54.746014700Z",
     "start_time": "2023-06-26T14:24:54.635833500Z"
    }
   },
   "outputs": [
    {
     "data": {
      "text/plain": "     0_RfR 0  0_RfR 1  0_RfR 2  1_RfR 0  1_RfR 1  1_RfR 2  2_RfR 0  2_RfR 1  \\\n54         0        0        0        0        0        0        0        0   \n76         0        0        0        0        0        0        0        1   \n88         0        1        0        0        0        0        0        0   \n134        0        1        0        0        0        0        1        0   \n256        0        0        0        0        0        0        0        0   \n268        0        0        0        0        0        0        0        0   \n278        0        0        0        0        0        0        1        1   \n285        0        0        0        0        0        0        0        1   \n291        0        0        0        0        0        0        1        0   \n410        1        1        1        1        1        1        0        1   \n437        1        1        1        0        1        1        0        1   \n705        1        1        0        0        0        1        0        1   \n\n     2_RfR 2  3_RfR 0  ...  A.4_DikeIncrease 2  A.5_DikeIncrease 0  \\\n54         0        0  ...                   4                   7   \n76         0        0  ...                   1                   4   \n88         1        0  ...                   0                   4   \n134        1        0  ...                   0                   3   \n256        0        0  ...                   3                   2   \n268        1        1  ...                   0                   1   \n278        0        0  ...                   0                   2   \n285        0        0  ...                   2                   3   \n291        0        0  ...                   0                   0   \n410        1        1  ...                   1                   8   \n437        1        1  ...                   2                   8   \n705        1        1  ...                   2                   8   \n\n     A.5_DikeIncrease 1  A.5_DikeIncrease 2  Expected Annual Damage  \\\n54                    0                   0                     0.0   \n76                    0                   0                     0.0   \n88                    0                   0                     0.0   \n134                   0                   0                     0.0   \n256                   0                   0                     0.0   \n268                   0                   0                     0.0   \n278                   0                   0                     0.0   \n285                   0                   0                     0.0   \n291                   0                   0                     0.0   \n410                   5                   7                     0.0   \n437                   2                   6                     0.0   \n705                   2                   5                     0.0   \n\n     Dike Investment Costs  RfR Investment Costs  Evacuation Costs  \\\n54            2.560100e+08          0.000000e+00               0.0   \n76            1.662552e+08          3.070000e+07               0.0   \n88            1.239637e+08          1.153000e+08               0.0   \n134           1.169251e+08          2.672000e+08               0.0   \n256           1.151080e+08          0.000000e+00               0.0   \n268           2.503721e+07          1.519000e+08               0.0   \n278           3.389903e+07          6.140000e+07               0.0   \n285           8.515974e+07          3.070000e+07               0.0   \n291           0.000000e+00          2.731000e+08               0.0   \n410           6.576607e+08          1.588300e+09               0.0   \n437           7.192202e+08          1.114400e+09               0.0   \n705           7.604062e+08          1.068100e+09               0.0   \n\n     Expected Number of Deaths  Case  \n54                         0.0     0  \n76                         0.0     0  \n88                         0.0     0  \n134                        0.0     0  \n256                        0.0     1  \n268                        0.0     1  \n278                        0.0     1  \n285                        0.0     1  \n291                        0.0     1  \n410                        0.0     2  \n437                        0.0     2  \n705                        0.0     2  \n\n[12 rows x 37 columns]",
      "text/html": "<div>\n<style scoped>\n    .dataframe tbody tr th:only-of-type {\n        vertical-align: middle;\n    }\n\n    .dataframe tbody tr th {\n        vertical-align: top;\n    }\n\n    .dataframe thead th {\n        text-align: right;\n    }\n</style>\n<table border=\"1\" class=\"dataframe\">\n  <thead>\n    <tr style=\"text-align: right;\">\n      <th></th>\n      <th>0_RfR 0</th>\n      <th>0_RfR 1</th>\n      <th>0_RfR 2</th>\n      <th>1_RfR 0</th>\n      <th>1_RfR 1</th>\n      <th>1_RfR 2</th>\n      <th>2_RfR 0</th>\n      <th>2_RfR 1</th>\n      <th>2_RfR 2</th>\n      <th>3_RfR 0</th>\n      <th>...</th>\n      <th>A.4_DikeIncrease 2</th>\n      <th>A.5_DikeIncrease 0</th>\n      <th>A.5_DikeIncrease 1</th>\n      <th>A.5_DikeIncrease 2</th>\n      <th>Expected Annual Damage</th>\n      <th>Dike Investment Costs</th>\n      <th>RfR Investment Costs</th>\n      <th>Evacuation Costs</th>\n      <th>Expected Number of Deaths</th>\n      <th>Case</th>\n    </tr>\n  </thead>\n  <tbody>\n    <tr>\n      <th>54</th>\n      <td>0</td>\n      <td>0</td>\n      <td>0</td>\n      <td>0</td>\n      <td>0</td>\n      <td>0</td>\n      <td>0</td>\n      <td>0</td>\n      <td>0</td>\n      <td>0</td>\n      <td>...</td>\n      <td>4</td>\n      <td>7</td>\n      <td>0</td>\n      <td>0</td>\n      <td>0.0</td>\n      <td>2.560100e+08</td>\n      <td>0.000000e+00</td>\n      <td>0.0</td>\n      <td>0.0</td>\n      <td>0</td>\n    </tr>\n    <tr>\n      <th>76</th>\n      <td>0</td>\n      <td>0</td>\n      <td>0</td>\n      <td>0</td>\n      <td>0</td>\n      <td>0</td>\n      <td>0</td>\n      <td>1</td>\n      <td>0</td>\n      <td>0</td>\n      <td>...</td>\n      <td>1</td>\n      <td>4</td>\n      <td>0</td>\n      <td>0</td>\n      <td>0.0</td>\n      <td>1.662552e+08</td>\n      <td>3.070000e+07</td>\n      <td>0.0</td>\n      <td>0.0</td>\n      <td>0</td>\n    </tr>\n    <tr>\n      <th>88</th>\n      <td>0</td>\n      <td>1</td>\n      <td>0</td>\n      <td>0</td>\n      <td>0</td>\n      <td>0</td>\n      <td>0</td>\n      <td>0</td>\n      <td>1</td>\n      <td>0</td>\n      <td>...</td>\n      <td>0</td>\n      <td>4</td>\n      <td>0</td>\n      <td>0</td>\n      <td>0.0</td>\n      <td>1.239637e+08</td>\n      <td>1.153000e+08</td>\n      <td>0.0</td>\n      <td>0.0</td>\n      <td>0</td>\n    </tr>\n    <tr>\n      <th>134</th>\n      <td>0</td>\n      <td>1</td>\n      <td>0</td>\n      <td>0</td>\n      <td>0</td>\n      <td>0</td>\n      <td>1</td>\n      <td>0</td>\n      <td>1</td>\n      <td>0</td>\n      <td>...</td>\n      <td>0</td>\n      <td>3</td>\n      <td>0</td>\n      <td>0</td>\n      <td>0.0</td>\n      <td>1.169251e+08</td>\n      <td>2.672000e+08</td>\n      <td>0.0</td>\n      <td>0.0</td>\n      <td>0</td>\n    </tr>\n    <tr>\n      <th>256</th>\n      <td>0</td>\n      <td>0</td>\n      <td>0</td>\n      <td>0</td>\n      <td>0</td>\n      <td>0</td>\n      <td>0</td>\n      <td>0</td>\n      <td>0</td>\n      <td>0</td>\n      <td>...</td>\n      <td>3</td>\n      <td>2</td>\n      <td>0</td>\n      <td>0</td>\n      <td>0.0</td>\n      <td>1.151080e+08</td>\n      <td>0.000000e+00</td>\n      <td>0.0</td>\n      <td>0.0</td>\n      <td>1</td>\n    </tr>\n    <tr>\n      <th>268</th>\n      <td>0</td>\n      <td>0</td>\n      <td>0</td>\n      <td>0</td>\n      <td>0</td>\n      <td>0</td>\n      <td>0</td>\n      <td>0</td>\n      <td>1</td>\n      <td>1</td>\n      <td>...</td>\n      <td>0</td>\n      <td>1</td>\n      <td>0</td>\n      <td>0</td>\n      <td>0.0</td>\n      <td>2.503721e+07</td>\n      <td>1.519000e+08</td>\n      <td>0.0</td>\n      <td>0.0</td>\n      <td>1</td>\n    </tr>\n    <tr>\n      <th>278</th>\n      <td>0</td>\n      <td>0</td>\n      <td>0</td>\n      <td>0</td>\n      <td>0</td>\n      <td>0</td>\n      <td>1</td>\n      <td>1</td>\n      <td>0</td>\n      <td>0</td>\n      <td>...</td>\n      <td>0</td>\n      <td>2</td>\n      <td>0</td>\n      <td>0</td>\n      <td>0.0</td>\n      <td>3.389903e+07</td>\n      <td>6.140000e+07</td>\n      <td>0.0</td>\n      <td>0.0</td>\n      <td>1</td>\n    </tr>\n    <tr>\n      <th>285</th>\n      <td>0</td>\n      <td>0</td>\n      <td>0</td>\n      <td>0</td>\n      <td>0</td>\n      <td>0</td>\n      <td>0</td>\n      <td>1</td>\n      <td>0</td>\n      <td>0</td>\n      <td>...</td>\n      <td>2</td>\n      <td>3</td>\n      <td>0</td>\n      <td>0</td>\n      <td>0.0</td>\n      <td>8.515974e+07</td>\n      <td>3.070000e+07</td>\n      <td>0.0</td>\n      <td>0.0</td>\n      <td>1</td>\n    </tr>\n    <tr>\n      <th>291</th>\n      <td>0</td>\n      <td>0</td>\n      <td>0</td>\n      <td>0</td>\n      <td>0</td>\n      <td>0</td>\n      <td>1</td>\n      <td>0</td>\n      <td>0</td>\n      <td>0</td>\n      <td>...</td>\n      <td>0</td>\n      <td>0</td>\n      <td>0</td>\n      <td>0</td>\n      <td>0.0</td>\n      <td>0.000000e+00</td>\n      <td>2.731000e+08</td>\n      <td>0.0</td>\n      <td>0.0</td>\n      <td>1</td>\n    </tr>\n    <tr>\n      <th>410</th>\n      <td>1</td>\n      <td>1</td>\n      <td>1</td>\n      <td>1</td>\n      <td>1</td>\n      <td>1</td>\n      <td>0</td>\n      <td>1</td>\n      <td>1</td>\n      <td>1</td>\n      <td>...</td>\n      <td>1</td>\n      <td>8</td>\n      <td>5</td>\n      <td>7</td>\n      <td>0.0</td>\n      <td>6.576607e+08</td>\n      <td>1.588300e+09</td>\n      <td>0.0</td>\n      <td>0.0</td>\n      <td>2</td>\n    </tr>\n    <tr>\n      <th>437</th>\n      <td>1</td>\n      <td>1</td>\n      <td>1</td>\n      <td>0</td>\n      <td>1</td>\n      <td>1</td>\n      <td>0</td>\n      <td>1</td>\n      <td>1</td>\n      <td>1</td>\n      <td>...</td>\n      <td>2</td>\n      <td>8</td>\n      <td>2</td>\n      <td>6</td>\n      <td>0.0</td>\n      <td>7.192202e+08</td>\n      <td>1.114400e+09</td>\n      <td>0.0</td>\n      <td>0.0</td>\n      <td>2</td>\n    </tr>\n    <tr>\n      <th>705</th>\n      <td>1</td>\n      <td>1</td>\n      <td>0</td>\n      <td>0</td>\n      <td>0</td>\n      <td>1</td>\n      <td>0</td>\n      <td>1</td>\n      <td>1</td>\n      <td>1</td>\n      <td>...</td>\n      <td>2</td>\n      <td>8</td>\n      <td>2</td>\n      <td>5</td>\n      <td>0.0</td>\n      <td>7.604062e+08</td>\n      <td>1.068100e+09</td>\n      <td>0.0</td>\n      <td>0.0</td>\n      <td>2</td>\n    </tr>\n  </tbody>\n</table>\n<p>12 rows × 37 columns</p>\n</div>"
     },
     "execution_count": 18,
     "metadata": {},
     "output_type": "execute_result"
    }
   ],
   "source": [
    "directed_narrow = directed_search_df['Expected Number of Deaths'] <= 0.0 \n",
    "directed_narrow = directed_search_df[directed_narrow]\n",
    "directed_narrow"
   ]
  },
  {
   "cell_type": "code",
   "execution_count": 19,
   "id": "444680d8",
   "metadata": {
    "ExecuteTime": {
     "end_time": "2023-06-26T14:24:54.919426100Z",
     "start_time": "2023-06-26T14:24:54.748010100Z"
    }
   },
   "outputs": [
    {
     "data": {
      "text/plain": "     0_RfR 0  0_RfR 1  0_RfR 2  1_RfR 0  1_RfR 1  1_RfR 2  2_RfR 0  2_RfR 1  \\\n54         0        0        0        0        0        0        0        0   \n76         0        0        0        0        0        0        0        1   \n88         0        1        0        0        0        0        0        0   \n134        0        1        0        0        0        0        1        0   \n256        0        0        0        0        0        0        0        0   \n268        0        0        0        0        0        0        0        0   \n278        0        0        0        0        0        0        1        1   \n285        0        0        0        0        0        0        0        1   \n291        0        0        0        0        0        0        1        0   \n410        1        1        1        1        1        1        0        1   \n437        1        1        1        0        1        1        0        1   \n705        1        1        0        0        0        1        0        1   \n\n     2_RfR 2  3_RfR 0  ...  A.3_DikeIncrease 0  A.3_DikeIncrease 1  \\\n54         0        0  ...                   5                   0   \n76         0        0  ...                   3                   0   \n88         1        0  ...                   3                   0   \n134        1        0  ...                   2                   0   \n256        0        0  ...                   7                   0   \n268        1        1  ...                   0                   0   \n278        0        0  ...                   0                   0   \n285        0        0  ...                   0                   0   \n291        0        0  ...                   0                   0   \n410        1        1  ...                   8                   1   \n437        1        1  ...                   8                   0   \n705        1        1  ...                   8                   3   \n\n     A.3_DikeIncrease 2  A.4_DikeIncrease 0  A.4_DikeIncrease 1  \\\n54                    0                   4                   1   \n76                    0                   5                   0   \n88                    0                   5                   1   \n134                   0                   3                   2   \n256                   0                   1                   0   \n268                   0                   0                   0   \n278                   0                   1                   0   \n285                   0                   3                   0   \n291                   0                   0                   0   \n410                   3                   9                   7   \n437                   3                   9                   7   \n705                   4                   9                   7   \n\n     A.4_DikeIncrease 2  A.5_DikeIncrease 0  A.5_DikeIncrease 1  \\\n54                    4                   7                   0   \n76                    1                   4                   0   \n88                    0                   4                   0   \n134                   0                   3                   0   \n256                   3                   2                   0   \n268                   0                   1                   0   \n278                   0                   2                   0   \n285                   2                   3                   0   \n291                   0                   0                   0   \n410                   1                   8                   5   \n437                   2                   8                   2   \n705                   2                   8                   2   \n\n     A.5_DikeIncrease 2  Case  \n54                    0     0  \n76                    0     0  \n88                    0     0  \n134                   0     0  \n256                   0     1  \n268                   0     1  \n278                   0     1  \n285                   0     1  \n291                   0     1  \n410                   7     2  \n437                   6     2  \n705                   5     2  \n\n[12 rows x 32 columns]",
      "text/html": "<div>\n<style scoped>\n    .dataframe tbody tr th:only-of-type {\n        vertical-align: middle;\n    }\n\n    .dataframe tbody tr th {\n        vertical-align: top;\n    }\n\n    .dataframe thead th {\n        text-align: right;\n    }\n</style>\n<table border=\"1\" class=\"dataframe\">\n  <thead>\n    <tr style=\"text-align: right;\">\n      <th></th>\n      <th>0_RfR 0</th>\n      <th>0_RfR 1</th>\n      <th>0_RfR 2</th>\n      <th>1_RfR 0</th>\n      <th>1_RfR 1</th>\n      <th>1_RfR 2</th>\n      <th>2_RfR 0</th>\n      <th>2_RfR 1</th>\n      <th>2_RfR 2</th>\n      <th>3_RfR 0</th>\n      <th>...</th>\n      <th>A.3_DikeIncrease 0</th>\n      <th>A.3_DikeIncrease 1</th>\n      <th>A.3_DikeIncrease 2</th>\n      <th>A.4_DikeIncrease 0</th>\n      <th>A.4_DikeIncrease 1</th>\n      <th>A.4_DikeIncrease 2</th>\n      <th>A.5_DikeIncrease 0</th>\n      <th>A.5_DikeIncrease 1</th>\n      <th>A.5_DikeIncrease 2</th>\n      <th>Case</th>\n    </tr>\n  </thead>\n  <tbody>\n    <tr>\n      <th>54</th>\n      <td>0</td>\n      <td>0</td>\n      <td>0</td>\n      <td>0</td>\n      <td>0</td>\n      <td>0</td>\n      <td>0</td>\n      <td>0</td>\n      <td>0</td>\n      <td>0</td>\n      <td>...</td>\n      <td>5</td>\n      <td>0</td>\n      <td>0</td>\n      <td>4</td>\n      <td>1</td>\n      <td>4</td>\n      <td>7</td>\n      <td>0</td>\n      <td>0</td>\n      <td>0</td>\n    </tr>\n    <tr>\n      <th>76</th>\n      <td>0</td>\n      <td>0</td>\n      <td>0</td>\n      <td>0</td>\n      <td>0</td>\n      <td>0</td>\n      <td>0</td>\n      <td>1</td>\n      <td>0</td>\n      <td>0</td>\n      <td>...</td>\n      <td>3</td>\n      <td>0</td>\n      <td>0</td>\n      <td>5</td>\n      <td>0</td>\n      <td>1</td>\n      <td>4</td>\n      <td>0</td>\n      <td>0</td>\n      <td>0</td>\n    </tr>\n    <tr>\n      <th>88</th>\n      <td>0</td>\n      <td>1</td>\n      <td>0</td>\n      <td>0</td>\n      <td>0</td>\n      <td>0</td>\n      <td>0</td>\n      <td>0</td>\n      <td>1</td>\n      <td>0</td>\n      <td>...</td>\n      <td>3</td>\n      <td>0</td>\n      <td>0</td>\n      <td>5</td>\n      <td>1</td>\n      <td>0</td>\n      <td>4</td>\n      <td>0</td>\n      <td>0</td>\n      <td>0</td>\n    </tr>\n    <tr>\n      <th>134</th>\n      <td>0</td>\n      <td>1</td>\n      <td>0</td>\n      <td>0</td>\n      <td>0</td>\n      <td>0</td>\n      <td>1</td>\n      <td>0</td>\n      <td>1</td>\n      <td>0</td>\n      <td>...</td>\n      <td>2</td>\n      <td>0</td>\n      <td>0</td>\n      <td>3</td>\n      <td>2</td>\n      <td>0</td>\n      <td>3</td>\n      <td>0</td>\n      <td>0</td>\n      <td>0</td>\n    </tr>\n    <tr>\n      <th>256</th>\n      <td>0</td>\n      <td>0</td>\n      <td>0</td>\n      <td>0</td>\n      <td>0</td>\n      <td>0</td>\n      <td>0</td>\n      <td>0</td>\n      <td>0</td>\n      <td>0</td>\n      <td>...</td>\n      <td>7</td>\n      <td>0</td>\n      <td>0</td>\n      <td>1</td>\n      <td>0</td>\n      <td>3</td>\n      <td>2</td>\n      <td>0</td>\n      <td>0</td>\n      <td>1</td>\n    </tr>\n    <tr>\n      <th>268</th>\n      <td>0</td>\n      <td>0</td>\n      <td>0</td>\n      <td>0</td>\n      <td>0</td>\n      <td>0</td>\n      <td>0</td>\n      <td>0</td>\n      <td>1</td>\n      <td>1</td>\n      <td>...</td>\n      <td>0</td>\n      <td>0</td>\n      <td>0</td>\n      <td>0</td>\n      <td>0</td>\n      <td>0</td>\n      <td>1</td>\n      <td>0</td>\n      <td>0</td>\n      <td>1</td>\n    </tr>\n    <tr>\n      <th>278</th>\n      <td>0</td>\n      <td>0</td>\n      <td>0</td>\n      <td>0</td>\n      <td>0</td>\n      <td>0</td>\n      <td>1</td>\n      <td>1</td>\n      <td>0</td>\n      <td>0</td>\n      <td>...</td>\n      <td>0</td>\n      <td>0</td>\n      <td>0</td>\n      <td>1</td>\n      <td>0</td>\n      <td>0</td>\n      <td>2</td>\n      <td>0</td>\n      <td>0</td>\n      <td>1</td>\n    </tr>\n    <tr>\n      <th>285</th>\n      <td>0</td>\n      <td>0</td>\n      <td>0</td>\n      <td>0</td>\n      <td>0</td>\n      <td>0</td>\n      <td>0</td>\n      <td>1</td>\n      <td>0</td>\n      <td>0</td>\n      <td>...</td>\n      <td>0</td>\n      <td>0</td>\n      <td>0</td>\n      <td>3</td>\n      <td>0</td>\n      <td>2</td>\n      <td>3</td>\n      <td>0</td>\n      <td>0</td>\n      <td>1</td>\n    </tr>\n    <tr>\n      <th>291</th>\n      <td>0</td>\n      <td>0</td>\n      <td>0</td>\n      <td>0</td>\n      <td>0</td>\n      <td>0</td>\n      <td>1</td>\n      <td>0</td>\n      <td>0</td>\n      <td>0</td>\n      <td>...</td>\n      <td>0</td>\n      <td>0</td>\n      <td>0</td>\n      <td>0</td>\n      <td>0</td>\n      <td>0</td>\n      <td>0</td>\n      <td>0</td>\n      <td>0</td>\n      <td>1</td>\n    </tr>\n    <tr>\n      <th>410</th>\n      <td>1</td>\n      <td>1</td>\n      <td>1</td>\n      <td>1</td>\n      <td>1</td>\n      <td>1</td>\n      <td>0</td>\n      <td>1</td>\n      <td>1</td>\n      <td>1</td>\n      <td>...</td>\n      <td>8</td>\n      <td>1</td>\n      <td>3</td>\n      <td>9</td>\n      <td>7</td>\n      <td>1</td>\n      <td>8</td>\n      <td>5</td>\n      <td>7</td>\n      <td>2</td>\n    </tr>\n    <tr>\n      <th>437</th>\n      <td>1</td>\n      <td>1</td>\n      <td>1</td>\n      <td>0</td>\n      <td>1</td>\n      <td>1</td>\n      <td>0</td>\n      <td>1</td>\n      <td>1</td>\n      <td>1</td>\n      <td>...</td>\n      <td>8</td>\n      <td>0</td>\n      <td>3</td>\n      <td>9</td>\n      <td>7</td>\n      <td>2</td>\n      <td>8</td>\n      <td>2</td>\n      <td>6</td>\n      <td>2</td>\n    </tr>\n    <tr>\n      <th>705</th>\n      <td>1</td>\n      <td>1</td>\n      <td>0</td>\n      <td>0</td>\n      <td>0</td>\n      <td>1</td>\n      <td>0</td>\n      <td>1</td>\n      <td>1</td>\n      <td>1</td>\n      <td>...</td>\n      <td>8</td>\n      <td>3</td>\n      <td>4</td>\n      <td>9</td>\n      <td>7</td>\n      <td>2</td>\n      <td>8</td>\n      <td>2</td>\n      <td>5</td>\n      <td>2</td>\n    </tr>\n  </tbody>\n</table>\n<p>12 rows × 32 columns</p>\n</div>"
     },
     "execution_count": 19,
     "metadata": {},
     "output_type": "execute_result"
    }
   ],
   "source": [
    "policies = directed_narrow.drop([o.name for o in model.outcomes], axis=1)\n",
    "policies"
   ]
  },
  {
   "cell_type": "code",
   "execution_count": 20,
   "id": "0e4e00db",
   "metadata": {
    "ExecuteTime": {
     "end_time": "2023-06-26T14:24:54.966422200Z",
     "start_time": "2023-06-26T14:24:54.838356Z"
    }
   },
   "outputs": [],
   "source": [
    "from ema_workbench import Policy\n",
    "\n",
    "policies_to_evaluate = []\n",
    "\n",
    "for i, policy in policies.iterrows():\n",
    "    policies_to_evaluate.append(Policy(str(i), **policy.to_dict()))"
   ]
  },
  {
   "cell_type": "code",
   "execution_count": 21,
   "id": "d072e2f4",
   "metadata": {
    "ExecuteTime": {
     "end_time": "2023-06-26T14:26:29.165164500Z",
     "start_time": "2023-06-26T14:24:54.918430800Z"
    }
   },
   "outputs": [
    {
     "name": "stderr",
     "output_type": "stream",
     "text": [
      "[MainProcess/INFO] pool started with 4 workers\n",
      "[MainProcess/INFO] performing 2 scenarios * 12 policies * 1 model(s) = 24 experiments\n",
      "100%|██████████████████████████████████████████| 24/24 [00:48<00:00,  2.04s/it]\n",
      "[MainProcess/INFO] experiments finished\n",
      "[MainProcess/INFO] terminating pool\n"
     ]
    }
   ],
   "source": [
    "with MultiprocessingEvaluator(model) as evaluator:\n",
    "    results = evaluator.perform_experiments(n_scenarios,\n",
    "                                            policies_to_evaluate)\n"
   ]
  },
  {
   "cell_type": "code",
   "execution_count": 30,
   "outputs": [],
   "source": [
    "outcomes = results[1]\n",
    "experiments = results[0]"
   ],
   "metadata": {
    "collapsed": false,
    "ExecuteTime": {
     "end_time": "2023-06-26T14:36:47.576955100Z",
     "start_time": "2023-06-26T14:36:47.545702200Z"
    }
   }
  },
  {
   "cell_type": "code",
   "execution_count": 33,
   "id": "ce0f59ad",
   "metadata": {
    "ExecuteTime": {
     "end_time": "2023-06-26T14:37:22.435037300Z",
     "start_time": "2023-06-26T14:37:22.379658600Z"
    }
   },
   "outputs": [],
   "source": [
    "outcomes_df = pd.DataFrame.from_dict(outcomes)\n"
   ]
  },
  {
   "cell_type": "code",
   "execution_count": 34,
   "id": "0beffb08",
   "metadata": {
    "ExecuteTime": {
     "end_time": "2023-06-26T14:37:23.256087100Z",
     "start_time": "2023-06-26T14:37:23.201233300Z"
    }
   },
   "outputs": [],
   "source": [
    "outcomes_df.to_csv(f'./output/directed_search/Directed_Search_Scenario_Analysis_Outcomes_{name}.csv', index=True)\n",
    "experiments.to_csv(f'./output/directed_search/Directed_Search_Scenario_Analysis_Experiments_{name}.csv', index=True)"
   ]
  },
  {
   "cell_type": "code",
   "execution_count": 35,
   "id": "be8d8719",
   "metadata": {
    "ExecuteTime": {
     "end_time": "2023-06-26T14:38:28.372219200Z",
     "start_time": "2023-06-26T14:38:28.335319600Z"
    }
   },
   "outputs": [],
   "source": [
    "directed_narrow.to_csv(f'./output/directed_search/Directed_Search_Scenario_Analysis_Policy_{name}.csv', index=True)"
   ]
  },
  {
   "cell_type": "code",
   "execution_count": null,
   "outputs": [],
   "source": [],
   "metadata": {
    "collapsed": false
   }
  }
 ],
 "metadata": {
  "kernelspec": {
   "display_name": "Python 3 (ipykernel)",
   "language": "python",
   "name": "python3"
  },
  "language_info": {
   "codemirror_mode": {
    "name": "ipython",
    "version": 3
   },
   "file_extension": ".py",
   "mimetype": "text/x-python",
   "name": "python",
   "nbconvert_exporter": "python",
   "pygments_lexer": "ipython3",
   "version": "3.8.10"
  }
 },
 "nbformat": 4,
 "nbformat_minor": 5
}
